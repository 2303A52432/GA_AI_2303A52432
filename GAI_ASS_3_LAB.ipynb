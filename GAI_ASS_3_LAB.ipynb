{
  "nbformat": 4,
  "nbformat_minor": 0,
  "metadata": {
    "colab": {
      "provenance": [],
      "authorship_tag": "ABX9TyOp4Doxg4S+jV836Imej2G8",
      "include_colab_link": true
    },
    "kernelspec": {
      "name": "python3",
      "display_name": "Python 3"
    },
    "language_info": {
      "name": "python"
    }
  },
  "cells": [
    {
      "cell_type": "markdown",
      "metadata": {
        "id": "view-in-github",
        "colab_type": "text"
      },
      "source": [
        "<a href=\"https://colab.research.google.com/github/2303A52432/GA_AI_2303A52432/blob/main/GAI_ASS_3_LAB.ipynb\" target=\"_parent\"><img src=\"https://colab.research.google.com/assets/colab-badge.svg\" alt=\"Open In Colab\"/></a>"
      ]
    },
    {
      "cell_type": "markdown",
      "source": [
        "A.YASHWANTH\n",
        "\n",
        "BATCH>>42\n",
        "\n",
        "2303A52432\n",
        "\n",
        "ASSIGNMENT-3\n"
      ],
      "metadata": {
        "id": "mFeNEjUF2ahn"
      }
    },
    {
      "cell_type": "code",
      "source": [
        "def gradient(x, y):\n",
        "    grad_x = 6 * x          # ∂f/∂x = 6x\n",
        "    grad_y = -5 * (2.71828**(-y))  # ∂f/∂y = -5e^(-y)\n",
        "    return grad_x, grad_y\n",
        "def gradient_descent(learning_rate, x_init, y_init, tolerance=1e-6, max_iterations=1000):\n",
        "    x, y = x_init, y_init\n",
        "    for iteration in range(max_iterations):\n",
        "        grad_x, grad_y = gradient(x, y)\n",
        "        x_new = x - learning_rate * grad_x\n",
        "        y_new = y - learning_rate * grad_y\n",
        "        if abs(x_new - x) < tolerance and abs(y_new - y) < tolerance:\n",
        "            return x_new, y_new\n",
        "        x, y = x_new, y_new\n",
        "\n",
        "    return x, y\n",
        "x_init = 1.0\n",
        "y_init = 1.0\n",
        "learning_rate = 0.1\n",
        "x_min, y_min = gradient_descent(learning_rate, x_init, y_init)\n",
        "\n",
        "print(f\"Minimum found at x = {x_min}, y = {y_min}\")\n"
      ],
      "metadata": {
        "colab": {
          "base_uri": "https://localhost:8080/"
        },
        "id": "Yzh-m-OJ2qgP",
        "outputId": "bb89ecf4-7fbf-4aec-f49f-773c5d7cdd45"
      },
      "execution_count": null,
      "outputs": [
        {
          "output_type": "stream",
          "name": "stdout",
          "text": [
            "Minimum found at x = 0.0, y = 6.222659879609241\n"
          ]
        }
      ]
    },
    {
      "cell_type": "code",
      "source": [
        "\n",
        "def sigmoid(x):\n",
        "    return 1 / (1 + 2.71828**(-x))\n",
        "def sigmoid_derivative(x):\n",
        "    z = sigmoid(x)\n",
        "    return z * (1 - z)\n",
        "def gradient_descent(learning_rate, x_init, tolerance=1e-6, max_iterations=1000):\n",
        "    x = x_init\n",
        "    for iteration in range(max_iterations):\n",
        "        grad = sigmoid_derivative(x)\n",
        "        x_new = x - learning_rate * grad\n",
        "        if abs(x_new - x) < tolerance:\n",
        "            return x_new\n",
        "\n",
        "        x = x_new\n",
        "\n",
        "    return x\n",
        "x_init = 1.0\n",
        "learning_rate = 0.1\n",
        "x_min = gradient_descent(learning_rate, x_init)\n",
        "\n",
        "print(f\"Minimum found at x = {x_min}\")\n"
      ],
      "metadata": {
        "colab": {
          "base_uri": "https://localhost:8080/"
        },
        "id": "zVzbj_nB3KAY",
        "outputId": "5390e354-4805-4d9f-ea3d-87d968734770"
      },
      "execution_count": null,
      "outputs": [
        {
          "output_type": "stream",
          "name": "stdout",
          "text": [
            "Minimum found at x = -4.4644756132889425\n"
          ]
        }
      ]
    },
    {
      "cell_type": "code",
      "source": [
        "# Function f(x) and its derivative f'(x)\n",
        "def f(x):\n",
        "    return 5*x**4 + 3*x**2 + 10\n",
        "\n",
        "def f_prime(x):\n",
        "  return 20*x**3 + 6*x\n",
        "\n",
        "# Gradient Descent function\n",
        "def gradient_descent(learning_rate, initial_x, max_iterations, tolerance=1e-6):\n",
        "  x = initial_x  # Starting point\n",
        "  for i in range(max_iterations):\n",
        "        grad = f_prime(x)  # Compute the gradient at x\n",
        "        new_x = x - learning_rate * grad  # Update x based on the gradient\n",
        "\n",
        "        # Check if the change is below tolerance\n",
        "        if abs(new_x - x) < tolerance:\n",
        "            break\n",
        "\n",
        "        x = new_x  # Move to the next x value\n",
        "        return x\n",
        "\n",
        "# Parameters for Gradient Descent\n",
        "learning_rate = 0.01  # Step size\n",
        "initial_x = -10  # Initial guess\n",
        "max_iterations = 1000  # Maximum number of iterations\n",
        "\n",
        "# Run Gradient Descent\n",
        "minimum_x = gradient_descent(learning_rate, initial_x, max_iterations)\n",
        "print(f\"The value of x that minimizes f(x) is approximately: {minimum_x}\")\n"
      ],
      "metadata": {
        "colab": {
          "base_uri": "https://localhost:8080/"
        },
        "id": "LurZ__WE2MFQ",
        "outputId": "80193b26-86be-4180-a7d9-004c527b09fc"
      },
      "execution_count": null,
      "outputs": [
        {
          "output_type": "stream",
          "name": "stdout",
          "text": [
            "The value of x that minimizes f(x) is approximately: 190.6\n"
          ]
        }
      ]
    },
    {
      "cell_type": "code",
      "source": [
        "\n",
        "def compute_square_error(M, C, x_values, expected_outputs):\n",
        "    total_error = 0\n",
        "    n = len(x_values)\n",
        "    for i in range(n):\n",
        "        predicted_output = M * x_values[i] + C\n",
        "        error = expected_outputs[i] - predicted_output\n",
        "        total_error += error ** 2\n",
        "    return total_error\n",
        "def compute_gradients(M, C, x_values, expected_outputs):\n",
        "    grad_M = 0\n",
        "    grad_C = 0\n",
        "    n = len(x_values)\n",
        "    for i in range(n):\n",
        "        predicted_output = M * x_values[i] + C\n",
        "        error = expected_outputs[i] - predicted_output\n",
        "        grad_M += -2 * x_values[i] * error\n",
        "        grad_C += -2 * error\n",
        "    return grad_M / n, grad_C / n\n",
        "def gradient_descent(x_values, expected_outputs, learning_rate, M_init, C_init, tolerance=1e-6, max_iterations=1000):\n",
        "    M = M_init\n",
        "    C = C_init\n",
        "    for iteration in range(max_iterations):\n",
        "        grad_M, grad_C = compute_gradients(M, C, x_values, expected_outputs)\n",
        "        M_new = M - learning_rate * grad_M\n",
        "        C_new = C - learning_rate * grad_C\n",
        "        if abs(M_new - M) < tolerance and abs(C_new - C) < tolerance:\n",
        "            return M_new, C_new\n",
        "        M, C = M_new, C_new\n",
        "\n",
        "    return M, C\n",
        "x_values = [1, 2, 3, 4, 5]\n",
        "expected_outputs = [2, 4, 6, 8, 10]\n",
        "M_init = 0.0\n",
        "C_init = 0.0\n",
        "learning_rate = 0.01\n",
        "M_optimal, C_optimal = gradient_descent(x_values, expected_outputs, learning_rate, M_init, C_init)\n",
        "\n",
        "print(f\"Optimal values found: M = {M_optimal}, C = {C_optimal}\")\n"
      ],
      "metadata": {
        "colab": {
          "base_uri": "https://localhost:8080/"
        },
        "id": "0gbEqG4R34t3",
        "outputId": "35660d9f-7c7c-42b8-8222-faba8b049676"
      },
      "execution_count": null,
      "outputs": [
        {
          "output_type": "stream",
          "name": "stdout",
          "text": [
            "Optimal values found: M = 1.9951803506719779, C = 0.017400463340610635\n"
          ]
        }
      ]
    }
  ]
}