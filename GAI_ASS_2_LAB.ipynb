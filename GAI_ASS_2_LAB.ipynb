{
  "nbformat": 4,
  "nbformat_minor": 0,
  "metadata": {
    "colab": {
      "provenance": [],
      "authorship_tag": "ABX9TyPcLgGze+ZNmLCeTMSVAJmM",
      "include_colab_link": true
    },
    "kernelspec": {
      "name": "python3",
      "display_name": "Python 3"
    },
    "language_info": {
      "name": "python"
    }
  },
  "cells": [
    {
      "cell_type": "markdown",
      "metadata": {
        "id": "view-in-github",
        "colab_type": "text"
      },
      "source": [
        "<a href=\"https://colab.research.google.com/github/2303A52432/GA_AI_2303A52432/blob/main/GAI_ASS_2_LAB.ipynb\" target=\"_parent\"><img src=\"https://colab.research.google.com/assets/colab-badge.svg\" alt=\"Open In Colab\"/></a>"
      ]
    },
    {
      "cell_type": "code",
      "source": [
        "import numpy as np\n",
        "X_train = np.array([[0.1, 0.2, 0.3],\n",
        "                   [0.2, 0.3, 0.4],\n",
        "                   [0.3, 0.4, 0.5],\n",
        "                   [0.5, 0.6, 0.7],\n",
        "                   [0.1, 0.3, 0.5],\n",
        "                   [0.2, 0.4, 0.6],\n",
        "                   [0.3, 0.5, 0.7],\n",
        "                   [0.4, 0.6, 0.8],\n",
        "                   [0.5, 0.7, 0.1]])\n",
        "y_train = np.array([0.14, 0.20, 0.26, 0.38, 0.22, 0.28, 0.34, 0.40, 0.22])\n",
        "X_test = np.array([[0.6, 0.7, 0.8],\n",
        "                  [0.7, 0.8, 0.9]])\n",
        "y_test = np.array([0.44, 0.50])\n",
        "learning_rate = 0.01\n",
        "epochs = 10000\n",
        "weights = np.random.randn(3)\n",
        "bias = np.random.randn(1)\n",
        "def linear_activation(x):\n",
        "    return x\n",
        "def mse(y_true, y_pred):\n",
        "    return np.mean((y_true - y_pred)**2)\n",
        "def backpropagation(X, y, weights, bias, learning_rate, epochs):\n",
        "    for epoch in range(epochs):\n",
        "        y_pred = linear_activation(np.dot(X, weights) + bias)\n",
        "        loss = mse(y, y_pred)\n",
        "        d_loss = y_pred - y\n",
        "        d_weights = np.dot(X.T, d_loss) / len(y)\n",
        "        d_bias = np.sum(d_loss) / len(y)\n",
        "        weights -= learning_rate * d_weights\n",
        "        bias -= learning_rate * d_bias\n",
        "        if epoch % 1000 == 0:\n",
        "            print(f'Epoch {epoch}, Loss: {loss}')\n",
        "    return weights, bias\n",
        "weights, bias = backpropagation(X_train, y_train, weights, bias, learning_rate, epochs)\n",
        "y_train_pred = linear_activation(np.dot(X_train, weights) + bias)\n",
        "train_mse = mse(y_train, y_train_pred)\n",
        "y_test_pred = linear_activation(np.dot(X_test, weights) + bias)\n",
        "test_mse = mse(y_test, y_test_pred)\n",
        "print(f'Training MSE: {train_mse}')\n",
        "print(f'Testing MSE: {test_mse}')\n",
        "def predict_input():\n",
        "    x1 = float(input(\"Enter x1: \"))\n",
        "    x2 = float(input(\"Enter x2: \"))\n",
        "    x3 = float(input(\"Enter x3: \"))\n",
        "    prediction = linear_activation(np.dot([x1, x2, x3], weights) + bias)\n",
        "    print(f\"Predicted Output: {prediction}\")\n",
        "predict_input()"
      ],
      "metadata": {
        "colab": {
          "base_uri": "https://localhost:8080/"
        },
        "id": "-tQZpRT9KFur",
        "outputId": "be6d12c7-73c7-4db1-d1fe-542ced3af1ce"
      },
      "execution_count": 3,
      "outputs": [
        {
          "output_type": "stream",
          "name": "stdout",
          "text": [
            "Epoch 0, Loss: 1.8737639875823657\n",
            "Epoch 1000, Loss: 0.04358598301548855\n",
            "Epoch 2000, Loss: 0.022516901102891874\n",
            "Epoch 3000, Loss: 0.011651091496015474\n",
            "Epoch 4000, Loss: 0.006037979220221163\n",
            "Epoch 5000, Loss: 0.003133847704320617\n",
            "Epoch 6000, Loss: 0.0016291515608538002\n",
            "Epoch 7000, Loss: 0.0008485043514885097\n",
            "Epoch 8000, Loss: 0.0004430014147065158\n",
            "Epoch 9000, Loss: 0.0002321214054269922\n",
            "Training MSE: 0.00012233134855105964\n",
            "Testing MSE: 0.00043718841739992975\n",
            "Enter x1: 1\n",
            "Enter x2: 1\n",
            "Enter x3: 3\n",
            "Predicted Output: [1.07939612]\n"
          ]
        }
      ]
    },
    {
      "cell_type": "code",
      "source": [
        "import numpy as np\n",
        "X_train = np.array([[0.1, 0.2, 0.3],\n",
        "                   [0.2, 0.3, 0.4],\n",
        "                   [0.3, 0.4, 0.5],\n",
        "                   [0.5, 0.6, 0.7],\n",
        "                   [0.1, 0.3, 0.5],\n",
        "                   [0.2, 0.4, 0.6],\n",
        "                   [0.3, 0.5, 0.7],\n",
        "                   [0.4, 0.6, 0.8],\n",
        "                   [0.5, 0.7, 0.1]])\n",
        "y_train = np.array([0.5349, 0.5498, 0.5646, 0.5939, 0.5548, 0.5695, 0.5842, 0.5987, 0.5548])\n",
        "X_test = np.array([[0.6, 0.7, 0.8],\n",
        "                  [0.7, 0.8, 0.9]])\n",
        "y_test = np.array([0.6083, 0.6225])\n",
        "learning_rate = 0.01\n",
        "epochs = 10000\n",
        "weights = np.random.randn(3)\n",
        "bias = np.random.randn(1)\n",
        "def sigmoid(x):\n",
        "    return 1 / (1 + np.exp(-x))\n",
        "def sigmoid_derivative(x):\n",
        "    return sigmoid(x) * (1 - sigmoid(x))\n",
        "def mse(y_true, y_pred):\n",
        "    return np.mean((y_true - y_pred)**2)\n",
        "def backpropagation(X, y, weights, bias, learning_rate, epochs):\n",
        "    for epoch in range(epochs):\n",
        "        y_pred = sigmoid(np.dot(X, weights) + bias)\n",
        "        loss = mse(y, y_pred)\n",
        "        d_loss = y_pred - y\n",
        "        d_weights = np.dot(X.T, d_loss * sigmoid_derivative(np.dot(X, weights) + bias)) / len(y)\n",
        "        d_bias = np.sum(d_loss * sigmoid_derivative(np.dot(X, weights) + bias)) / len(y)\n",
        "        weights -= learning_rate * d_weights\n",
        "        bias -= learning_rate * d_bias\n",
        "        if epoch % 1000 == 0:\n",
        "            print(f'Epoch {epoch}, Loss: {loss}')\n",
        "    return weights, bias\n",
        "weights, bias = backpropagation(X_train, y_train, weights, bias, learning_rate, epochs)\n",
        "y_train_pred = sigmoid(np.dot(X_train, weights) + bias)\n",
        "train_mse = mse(y_train, y_train_pred)\n",
        "y_test_pred = sigmoid(np.dot(X_test, weights) + bias)\n",
        "test_mse = mse(y_test, y_test_pred)\n",
        "print(f'Training MSE: {train_mse}')\n",
        "print(f'Testing MSE: {test_mse}')\n",
        "def predict_input():\n",
        "    x1 = float(input(\"Enter x1: \"))\n",
        "    x2 = float(input(\"Enter x2: \"))\n",
        "    x3 = float(input(\"Enter x3: \"))\n",
        "    prediction = sigmoid(np.dot([x1, x2, x3], weights) + bias)\n",
        "    print(f\"Predicted Output: {prediction}\")\n",
        "predict_input()"
      ],
      "metadata": {
        "colab": {
          "base_uri": "https://localhost:8080/"
        },
        "id": "nuyrtUzxKqV8",
        "outputId": "ac0afc4a-8389-48ca-d728-1bdddb78fd3f"
      },
      "execution_count": 5,
      "outputs": [
        {
          "output_type": "stream",
          "name": "stdout",
          "text": [
            "Epoch 0, Loss: 0.041941330884575315\n",
            "Epoch 1000, Loss: 0.010639632841144504\n",
            "Epoch 2000, Loss: 0.004998033856923618\n",
            "Epoch 3000, Loss: 0.003921117541464237\n",
            "Epoch 4000, Loss: 0.0036153950117162356\n",
            "Epoch 5000, Loss: 0.003449305147245382\n",
            "Epoch 6000, Loss: 0.003312430218873271\n",
            "Epoch 7000, Loss: 0.003184769722502418\n",
            "Epoch 8000, Loss: 0.003062556486093176\n",
            "Epoch 9000, Loss: 0.002944981108824956\n",
            "Training MSE: 0.0028317769911624063\n",
            "Testing MSE: 0.007827265426878456\n",
            "Enter x1: 1\n",
            "Enter x2: 2\n",
            "Enter x3: 3\n",
            "Predicted Output: [0.97832472]\n"
          ]
        }
      ]
    }
  ]
}